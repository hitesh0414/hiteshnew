{
 "cells": [
  {
   "cell_type": "code",
   "execution_count": 2,
   "id": "f185f071",
   "metadata": {},
   "outputs": [
    {
     "name": "stdout",
     "output_type": "stream",
     "text": [
      "hello world\n"
     ]
    }
   ],
   "source": [
    "print(\"hello world\")"
   ]
  },
  {
   "cell_type": "code",
   "execution_count": 2,
   "id": "cd59ef49",
   "metadata": {},
   "outputs": [
    {
     "name": "stdout",
     "output_type": "stream",
     "text": [
      "career\n",
      "lab\n"
     ]
    }
   ],
   "source": [
    "print(\"career\")\n",
    "print(\"lab\")"
   ]
  },
  {
   "cell_type": "code",
   "execution_count": 8,
   "id": "e6817aff",
   "metadata": {},
   "outputs": [
    {
     "name": "stdout",
     "output_type": "stream",
     "text": [
      "7\n"
     ]
    }
   ],
   "source": [
    "print(7)"
   ]
  },
  {
   "cell_type": "code",
   "execution_count": 34,
   "id": "260a7db9",
   "metadata": {},
   "outputs": [
    {
     "name": "stdout",
     "output_type": "stream",
     "text": [
      "sum of a = 100 and b= 20 is 120\n",
      "calculation done\n"
     ]
    }
   ],
   "source": [
    "a=100\n",
    "b=20\n",
    "sum=a+b\n",
    "print(\"sum of a =\",a,\"and b=\",b,\"is\",sum)\n",
    "print(\"calculation done\")"
   ]
  },
  {
   "cell_type": "code",
   "execution_count": 61,
   "id": "dbe6afed",
   "metadata": {},
   "outputs": [
    {
     "name": "stdout",
     "output_type": "stream",
     "text": [
      "<class 'int'>\n",
      "<class 'float'>\n",
      "<class 'complex'>\n",
      "<class 'str'>\n"
     ]
    }
   ],
   "source": [
    "a = 1\n",
    "b = 20.57\n",
    "c = 4+5j\n",
    "d = \"ghjgf\"\n",
    "\n",
    "print(type(a))\n",
    "print(type(b))\n",
    "print(type(c))\n",
    "print(type(d))"
   ]
  },
  {
   "cell_type": "code",
   "execution_count": 62,
   "id": "84750594",
   "metadata": {},
   "outputs": [
    {
     "name": "stdout",
     "output_type": "stream",
     "text": [
      "1612280583632\n",
      "1612280583632\n"
     ]
    }
   ],
   "source": [
    "g = 100\n",
    "h = 100\n",
    "\n",
    "print(id(g))\n",
    "print(id(h))"
   ]
  },
  {
   "cell_type": "code",
   "execution_count": 63,
   "id": "53491ee3",
   "metadata": {},
   "outputs": [
    {
     "name": "stdout",
     "output_type": "stream",
     "text": [
      "1612392401040\n",
      "1612392401168\n",
      "1612392401936\n",
      "1612392401584\n"
     ]
    }
   ],
   "source": [
    "a = -6\n",
    "b = -6\n",
    "c = 257  \n",
    "print(id(b))\n",
    "print(id(c))\n",
    "print(id(d))"
   ]
  },
  {
   "cell_type": "code",
   "execution_count": 5,
   "id": "bc74f48e",
   "metadata": {},
   "outputs": [
    {
     "name": "stdout",
     "output_type": "stream",
     "text": [
      "<class 'int'>\n",
      "<class 'float'>\n",
      "<class 'complex'>\n",
      "<class 'str'>\n",
      "2444805106256\n",
      "2444891504240\n",
      "2444891504272\n",
      "2444811024496\n"
     ]
    }
   ],
   "source": [
    "a = 10\n",
    "b = 5.6\n",
    "c =4 + 5j\n",
    "d = 'a'\n",
    "print(type(a))\n",
    "print(type(b))\n",
    "print(type(c))\n",
    "print(type(d))\n",
    "print(id(a))\n",
    "print(id(b))\n",
    "print(id(c))\n",
    "print(id(d))"
   ]
  },
  {
   "cell_type": "code",
   "execution_count": 5,
   "id": "8ce64680",
   "metadata": {},
   "outputs": [
    {
     "name": "stdout",
     "output_type": "stream",
     "text": [
      "False\n",
      "True\n",
      "True\n",
      "False\n"
     ]
    }
   ],
   "source": [
    "a = 20\n",
    "b = 10\n",
    "c = 5\n",
    "print(a>10 and b<10)\n",
    "print(a>10 or b>10)\n",
    "print(a>10 and b>10 or c==5)\n",
    "#left to right associty\n",
    "print(a!=20)"
   ]
  },
  {
   "cell_type": "code",
   "execution_count": 7,
   "id": "54584b65",
   "metadata": {},
   "outputs": [
    {
     "ename": "SyntaxError",
     "evalue": "invalid syntax (1827944542.py, line 4)",
     "output_type": "error",
     "traceback": [
      "\u001b[1;36m  Input \u001b[1;32mIn [7]\u001b[1;36m\u001b[0m\n\u001b[1;33m    a=a+5 == a+=5\u001b[0m\n\u001b[1;37m              ^\u001b[0m\n\u001b[1;31mSyntaxError\u001b[0m\u001b[1;31m:\u001b[0m invalid syntax\n"
     ]
    }
   ],
   "source": [
    "# Assignment operators\n",
    "# =, +=, -=, *=, /=, %=, **=\n",
    "a=5\n",
    "a=a+5 == a+=5\n",
    "a=a-5 == a+=5\n",
    "a=a*5 == a*=5\n",
    "a=a%5 == a%=5\n"
   ]
  },
  {
   "cell_type": "code",
   "execution_count": 10,
   "id": "b7674345",
   "metadata": {},
   "outputs": [
    {
     "name": "stdout",
     "output_type": "stream",
     "text": [
      "True\n"
     ]
    }
   ],
   "source": [
    "#special operators- identity and membership\n",
    "#identity: is,is not\n",
    "# they look for identicel values and saved at same part of memory.\n",
    "a = \"abc\"\n",
    "b = \"abc\" \n",
    "#print(a is not b)\n",
    "#membership operators\n",
    "#in, not in\n",
    "#it is done with sequence type only\n",
    "\n",
    "\n",
    "a=2 \n",
    "b=(2,3,4,5) #list sequence\n",
    "print(3 in b)"
   ]
  },
  {
   "cell_type": "code",
   "execution_count": 18,
   "id": "179401f1",
   "metadata": {},
   "outputs": [
    {
     "name": "stdout",
     "output_type": "stream",
     "text": [
      "4\n",
      "5.0\n",
      "-21\n",
      "80\n",
      "5\n"
     ]
    }
   ],
   "source": [
    "#bitwise operators\n",
    "#bits 0,1\n",
    "#1byte=08 bits\n",
    "#128 64 32 16 8 4 2 1 for 20 bit code is-\n",
    "#0   0  0   1 0 1 0 0\n",
    "# & , / , ^\n",
    "a = 20 #00010100\n",
    "b = 4  #00000100\n",
    "#output 00000100\n",
    "print(a&b)\n",
    "print(a/b)\n",
    "#complement ~, shift left <<, shift right >>\n",
    "#20  00010100\n",
    "#~20 11101010\n",
    "print(~20)\n",
    "#20 -  00010100\n",
    "#20<<2 01010000\n",
    "#20>>2 00000101\n",
    "print(20<<2)\n",
    "print(20>>2)"
   ]
  },
  {
   "cell_type": "code",
   "execution_count": 9,
   "id": "d8c80185",
   "metadata": {},
   "outputs": [
    {
     "name": "stdout",
     "output_type": "stream",
     "text": [
      "enter the value of ah\n",
      "value of a = h\n",
      "<class 'int'>\n"
     ]
    }
   ],
   "source": [
    "a = input(\"enter the value of a\")\n",
    "print(\"value of a =\",a)\n",
    "b = 4.65\n",
    "c = int(b)\n",
    "print(type(c))"
   ]
  },
  {
   "cell_type": "code",
   "execution_count": 10,
   "id": "1eed4b4d",
   "metadata": {},
   "outputs": [
    {
     "name": "stdout",
     "output_type": "stream",
     "text": [
      "<class 'bool'>\n",
      "<class 'bool'>\n"
     ]
    }
   ],
   "source": [
    "#boolem data type\n",
    "a = True\n",
    "b = False\n",
    "print(type(a))\n",
    "print(type(b))"
   ]
  },
  {
   "cell_type": "code",
   "execution_count": 15,
   "id": "238d9895",
   "metadata": {},
   "outputs": [
    {
     "name": "stdout",
     "output_type": "stream",
     "text": [
      "False\n",
      "True\n",
      "False\n",
      "True\n",
      "False\n",
      "True\n"
     ]
    }
   ],
   "source": [
    "#relatinal operators\n",
    "a = 10\n",
    "b = 20\n",
    "print(a>b)\n",
    "print (a<b)\n",
    "print (a>=b)\n",
    "print(a<=b)\n",
    "print(a==b)\n",
    "print(a!=b)"
   ]
  },
  {
   "cell_type": "code",
   "execution_count": 33,
   "id": "431cff1f",
   "metadata": {},
   "outputs": [
    {
     "name": "stdout",
     "output_type": "stream",
     "text": [
      "False\n",
      "False\n",
      "False\n"
     ]
    }
   ],
   "source": [
    "#logical operaters\n",
    "a = 10\n",
    "b = 10\n",
    "c1 = not(a)\n",
    "print(a>10 and b>10)\n",
    "print(a>10 or b>10)\n",
    "print(c1)\n"
   ]
  },
  {
   "cell_type": "code",
   "execution_count": 34,
   "id": "29d7d988",
   "metadata": {},
   "outputs": [
    {
     "name": "stdout",
     "output_type": "stream",
     "text": [
      "30\n",
      "-10\n",
      "0.5\n",
      "0\n",
      "100000000000000000000\n",
      "10\n"
     ]
    }
   ],
   "source": [
    "#airthamatic operation\n",
    "a = 10\n",
    "b = 20\n",
    "print (a+b)\n",
    "print(a-b)\n",
    "print(a/b)\n",
    "print(a//b)\n",
    "print(a**b)\n",
    "print(a%b)"
   ]
  },
  {
   "cell_type": "code",
   "execution_count": 4,
   "id": "8f53a9e0",
   "metadata": {},
   "outputs": [
    {
     "name": "stdout",
     "output_type": "stream",
     "text": [
      "<class 'str'>\n",
      "<class 'float'>\n",
      "<class 'str'>\n"
     ]
    }
   ],
   "source": [
    "#type casting: converting one data type into another \n",
    "#implicit and explicit\n",
    "a = \"5\"\n",
    "print(type(a))\n",
    "#int(),float(),str(),casting is also done in sequence type\n",
    "a = 3.0\n",
    "print(type(a))\n",
    "b = str(a)\n",
    "print(type(b))"
   ]
  },
  {
   "cell_type": "code",
   "execution_count": 6,
   "id": "767e048b",
   "metadata": {},
   "outputs": [
    {
     "name": "stdout",
     "output_type": "stream",
     "text": [
      "enter 1st number: 45\n",
      "enter 2nd number: 46\n",
      "sum is:  91\n"
     ]
    }
   ],
   "source": [
    "#sum operation\n",
    "a=int(input(\"enter 1st number: \"))\n",
    "b=int(input(\"enter 2nd number: \"))\n",
    "s=a+b\n",
    "print(\"sum is: \",s)"
   ]
  },
  {
   "cell_type": "code",
   "execution_count": 7,
   "id": "7793599d",
   "metadata": {},
   "outputs": [
    {
     "name": "stdout",
     "output_type": "stream",
     "text": [
      "512\n"
     ]
    }
   ],
   "source": [
    "#precedence and associativity\n",
    "print(2**3**2)\n",
    "#a-b+c\n"
   ]
  },
  {
   "cell_type": "code",
   "execution_count": 14,
   "id": "fec0eae0",
   "metadata": {},
   "outputs": [
    {
     "name": "stdout",
     "output_type": "stream",
     "text": [
      "enter your age: 65\n",
      "you can not join facebook!\n"
     ]
    }
   ],
   "source": [
    "#flow control\n",
    "#order in which statements/blocks of code is executed ar rum time\n",
    "# 1. conditional - if else elif nested if\n",
    "# 2. transfer - break continue pass\n",
    "# 3. iterative -while for\n",
    "\n",
    "#conditional\n",
    "\n",
    "person=int(input(\"enter your age: \"))\n",
    "if person>=18 and person<60:\n",
    "    print(\"you can join facebook!\")\n",
    "else:\n",
    "    print(\"you can not join facebook!\")"
   ]
  },
  {
   "cell_type": "code",
   "execution_count": 23,
   "id": "47fccd79",
   "metadata": {},
   "outputs": [
    {
     "ename": "SyntaxError",
     "evalue": "invalid syntax (503593162.py, line 4)",
     "output_type": "error",
     "traceback": [
      "\u001b[1;36m  Input \u001b[1;32mIn [23]\u001b[1;36m\u001b[0m\n\u001b[1;33m    print(if construct activated)\u001b[0m\n\u001b[1;37m          ^\u001b[0m\n\u001b[1;31mSyntaxError\u001b[0m\u001b[1;31m:\u001b[0m invalid syntax\n"
     ]
    }
   ],
   "source": [
    "a = true\n",
    " \n",
    "if a: #block 1\n",
    "    print(if construct activated)\n",
    "    print(line1)\n",
    "    print(line2)\n",
    "    print(line3)\n",
    "else :\n",
    "    print(line4)\n",
    "    print(line)\n",
    "print(\"demo of if-else conduct\")\n"
   ]
  },
  {
   "cell_type": "code",
   "execution_count": 22,
   "id": "d0bad814",
   "metadata": {},
   "outputs": [
    {
     "name": "stdout",
     "output_type": "stream",
     "text": [
      "Enter any number57\n",
      "num is odd\n"
     ]
    }
   ],
   "source": [
    "#num is odd or even?\n",
    "num = (int)(input(\"Enter any number\"))\n",
    "\n",
    "if num%2==0:\n",
    "    print(\"num is even\")\n",
    "else:\n",
    "    print(\"num is odd\")"
   ]
  },
  {
   "cell_type": "code",
   "execution_count": 26,
   "id": "e7ff7389",
   "metadata": {},
   "outputs": [
    {
     "name": "stdout",
     "output_type": "stream",
     "text": [
      "5\n",
      "4\n",
      "3\n",
      "10.0\n"
     ]
    }
   ],
   "source": [
    "a=int(input())\n",
    "b=int(input())\n",
    "c=int(input())\n",
    "avg=a+b+c/3\n",
    "print(avg)"
   ]
  },
  {
   "cell_type": "code",
   "execution_count": 27,
   "id": "a71bccf0",
   "metadata": {},
   "outputs": [
    {
     "name": "stdout",
     "output_type": "stream",
     "text": [
      "3\n",
      "2\n",
      "9\n"
     ]
    }
   ],
   "source": [
    "x = (int)(input())\n",
    "n = (int)(input())\n",
    "print(x**n)"
   ]
  },
  {
   "cell_type": "code",
   "execution_count": 6,
   "id": "d88dd4fa",
   "metadata": {},
   "outputs": [
    {
     "name": "stdout",
     "output_type": "stream",
     "text": [
      "7\n"
     ]
    },
    {
     "data": {
      "text/plain": [
       "5"
      ]
     },
     "execution_count": 6,
     "metadata": {},
     "output_type": "execute_result"
    }
   ],
   "source": [
    "###games\n",
    "print(7)\n",
    "5\n"
   ]
  },
  {
   "cell_type": "code",
   "execution_count": 11,
   "id": "62032390",
   "metadata": {},
   "outputs": [
    {
     "name": "stdout",
     "output_type": "stream",
     "text": [
      "Enter the number124\n",
      "it is not a valid number\n"
     ]
    }
   ],
   "source": [
    "number = int(input(\"Enter the number\"))\n",
    "if number == 10:\n",
    "    print(\"10 is entered by the user\")\n",
    "elif number == 50:\n",
    "    print(\"50 is entered by the user\")\n",
    "elif number == 100:\n",
    "    print(\"100 is entered by the user\")\n",
    "else:\n",
    "    print(\"it is not a valid number\")\n",
    "    "
   ]
  },
  {
   "cell_type": "code",
   "execution_count": 27,
   "id": "575dd9d5",
   "metadata": {},
   "outputs": [
    {
     "name": "stdout",
     "output_type": "stream",
     "text": [
      "enter the marks64\n",
      "you have scored B grade\n"
     ]
    }
   ],
   "source": [
    "marks = int(input(\"enter the marks\"))\n",
    "if marks >85 and marks <=100:\n",
    "    print(\"you have scored A grade\")\n",
    "elif marks >65 and marks <=85:\n",
    "    print(\"you have scored B+ grade\")\n",
    "elif marks >45 and marks <= 65:\n",
    "    print(\"you have scored B grade\")\n",
    "else:\n",
    "    print(\"sorry!!you have failed better luck next time!\")"
   ]
  },
  {
   "cell_type": "code",
   "execution_count": null,
   "id": "51811063",
   "metadata": {},
   "outputs": [],
   "source": [
    "n = (int)(input(\"enter the value of n\"))\n",
    "\n",
    "if n%2 ==0:\n",
    "    print(\"n is even\")\n",
    "    if (n==0)\n",
    "    print(\"n is zero \")"
   ]
  },
  {
   "cell_type": "code",
   "execution_count": 26,
   "id": "907639c1",
   "metadata": {},
   "outputs": [
    {
     "name": "stdout",
     "output_type": "stream",
     "text": [
      "enter the value of n6\n",
      "enter the value of m8\n",
      "1\n"
     ]
    }
   ],
   "source": [
    "n = (int)(input(\"enter the value of n\"))\n",
    "m = (int)(input(\"enter the value of m\"))\n",
    "if n%2 ==0:\n",
    "    if (m%2==0):\n",
    "        print(1)\n",
    "    else:\n",
    "        print(2)\n",
    "else:\n",
    "    print(3)"
   ]
  },
  {
   "cell_type": "code",
   "execution_count": 30,
   "id": "69264b16",
   "metadata": {},
   "outputs": [
    {
     "name": "stdout",
     "output_type": "stream",
     "text": [
      "hitesh\n",
      "hitesh\n",
      "hitesh\n",
      "hitesh\n",
      "hitesh\n",
      "hitesh\n",
      "hitesh\n",
      "hitesh\n",
      "hitesh\n",
      "hitesh\n",
      "exit from the loop\n"
     ]
    }
   ],
   "source": [
    "x = 1 #initialization\n",
    "while x<=10: #test condition\n",
    "    print(\"hitesh\")#task\n",
    "    x = x+1#update stet-->inc/dec\n",
    "print(\"exit from the loop\")\n"
   ]
  },
  {
   "cell_type": "code",
   "execution_count": 35,
   "id": "c93572e4",
   "metadata": {
    "scrolled": true
   },
   "outputs": [
    {
     "name": "stdout",
     "output_type": "stream",
     "text": [
      "how many times you want to type your name10\n",
      "hitesh\n",
      "hitesh\n",
      "hitesh\n",
      "hitesh\n",
      "hitesh\n",
      "hitesh\n",
      "hitesh\n",
      "hitesh\n",
      "hitesh\n",
      "hitesh\n",
      "exit the loop\n"
     ]
    }
   ],
   "source": [
    "n = (int)(input(\"how many times you want to type your name\"))\n",
    "x = 1 #initialization\n",
    "\n",
    "while x<=n: # test condition\n",
    "    print(\"hitesh\") # task\n",
    "    x = x+1\n",
    "print(\"exit the loop\")"
   ]
  },
  {
   "cell_type": "code",
   "execution_count": 6,
   "id": "4dcd53e0",
   "metadata": {},
   "outputs": [
    {
     "name": "stdout",
     "output_type": "stream",
     "text": [
      "3106950724176\n"
     ]
    },
    {
     "data": {
      "text/plain": [
       "3106978146640"
      ]
     },
     "execution_count": 6,
     "metadata": {},
     "output_type": "execute_result"
    }
   ],
   "source": [
    "a= 1.05\n",
    "print(id(a))\n",
    "a  = a+1\n",
    "id(a)"
   ]
  },
  {
   "cell_type": "code",
   "execution_count": 8,
   "id": "c95c5453",
   "metadata": {},
   "outputs": [
    {
     "data": {
      "text/plain": [
       "int"
      ]
     },
     "execution_count": 8,
     "metadata": {},
     "output_type": "execute_result"
    }
   ],
   "source": [
    "a=10\n",
    "type(id(a))"
   ]
  },
  {
   "cell_type": "code",
   "execution_count": 1,
   "id": "f180dcd8",
   "metadata": {},
   "outputs": [
    {
     "name": "stdout",
     "output_type": "stream",
     "text": [
      "1\n",
      "2\n",
      "3\n",
      "4\n",
      "5\n"
     ]
    }
   ],
   "source": [
    "#break and continue in while loop\n",
    "# break is the control statement, as soon as it encountered the execution skips the whole block\n",
    "# wheras in continue, only the current iteration is skipped\n",
    "a=1\n",
    "while a<=10:\n",
    "    print(a)\n",
    "    if a==5:\n",
    "        break\n",
    "    a=a+1"
   ]
  },
  {
   "cell_type": "code",
   "execution_count": 12,
   "id": "67c3c949",
   "metadata": {},
   "outputs": [
    {
     "name": "stdout",
     "output_type": "stream",
     "text": [
      "4\n",
      "10\n"
     ]
    }
   ],
   "source": [
    "n = (int)(input())\n",
    "i =1\n",
    "sum = 0\n",
    "\n",
    "while i<=n:\n",
    "    sum = sum+i\n",
    "    i = i + 1\n",
    "    \n",
    "print(sum)"
   ]
  },
  {
   "cell_type": "code",
   "execution_count": 1,
   "id": "97b2b54b",
   "metadata": {},
   "outputs": [
    {
     "name": "stdout",
     "output_type": "stream",
     "text": [
      "6\n"
     ]
    }
   ],
   "source": [
    "while(True):\n",
    "    a = (int)(input())\n",
    "    if a == 1:\n",
    "        I1 = (int)(input())\n",
    "        I2 = (int)(input())\n",
    "        print(I1+I2)\n",
    "    elif a == 2:\n",
    "        I1 = (int)(input())\n",
    "        I2 = (int)(input())\n",
    "        print(I1-I2)\n",
    "    elif a == 3:\n",
    "        I1 = (int)(input())\n",
    "        I2 = (int)(input())\n",
    "        print(I1*I2)\n",
    "    elif a == 4:\n",
    "        I1 = (int)(input())\n",
    "        I2 = (int)(input())\n",
    "        print(I1//I2)\n",
    "    elif a == 5:\n",
    "        I1 = (int)(input())\n",
    "        I2 = (int)(input())\n",
    "        print(I1%I2)\n",
    "    elif a == 6:\n",
    "        break\n",
    "    else:\n",
    "        print(\"Invalid Operation\")"
   ]
  },
  {
   "cell_type": "code",
   "execution_count": 6,
   "id": "d7e4bd89",
   "metadata": {
    "scrolled": true
   },
   "outputs": [
    {
     "name": "stdout",
     "output_type": "stream",
     "text": [
      "Enter the no. of rows3\n",
      "Enter the no. of cols3\n",
      "***\n",
      "***\n",
      "***\n"
     ]
    }
   ],
   "source": [
    "rows = (int)(input(\"Enter the no. of rows\"))\n",
    "col =  (int)(input(\"Enter the no. of cols\"))\n",
    "\n",
    "r=0\n",
    "while r<rows:\n",
    "    c=0\n",
    "    while c<col:\n",
    "        print(\"*\",end = \"\")\n",
    "        c = c+1\n",
    "    print()\n",
    "    r = r+1\n"
   ]
  },
  {
   "cell_type": "code",
   "execution_count": 20,
   "id": "b85d9b12",
   "metadata": {},
   "outputs": [
    {
     "name": "stdout",
     "output_type": "stream",
     "text": [
      "1111\n",
      "2222\n",
      "3333\n",
      "4444\n"
     ]
    }
   ],
   "source": [
    "r=1\n",
    "while r<=4:\n",
    "    c=1\n",
    "    while c<=4:\n",
    "        print(r,end = \"\")\n",
    "        c = c+1\n",
    "    print()\n",
    "    r  = r+1"
   ]
  },
  {
   "cell_type": "code",
   "execution_count": 21,
   "id": "14e1946a",
   "metadata": {},
   "outputs": [
    {
     "name": "stdout",
     "output_type": "stream",
     "text": [
      "1234\n",
      "1234\n",
      "1234\n",
      "1234\n"
     ]
    }
   ],
   "source": [
    "r=1\n",
    "while r<=4:\n",
    "    c=1\n",
    "    while c<=4:\n",
    "        print(c,end = \"\")\n",
    "        c = c+1\n",
    "    print()\n",
    "    r  = r+1"
   ]
  },
  {
   "cell_type": "code",
   "execution_count": 44,
   "id": "e666bbfb",
   "metadata": {},
   "outputs": [
    {
     "name": "stdout",
     "output_type": "stream",
     "text": [
      "4321\n",
      "4321\n",
      "4321\n",
      "4321\n"
     ]
    }
   ],
   "source": [
    "r=4\n",
    "while r>=1:\n",
    "    c=4\n",
    "    while c>=1:\n",
    "        print(c,end = \"\")\n",
    "        c = c-1\n",
    "    print()\n",
    "    r  = r-1"
   ]
  },
  {
   "cell_type": "code",
   "execution_count": 41,
   "id": "9ab1da40",
   "metadata": {},
   "outputs": [
    {
     "name": "stdout",
     "output_type": "stream",
     "text": [
      "1\n",
      "12\n",
      "123\n",
      "1234\n"
     ]
    }
   ],
   "source": [
    "r=1\n",
    "while r<=4:\n",
    "    c=1\n",
    "    while c<=r:\n",
    "        print(c,end = \"\")\n",
    "        c = c+1\n",
    "    print()\n",
    "    r =r+1"
   ]
  },
  {
   "cell_type": "code",
   "execution_count": 51,
   "id": "9e9fb3a8",
   "metadata": {},
   "outputs": [
    {
     "name": "stdout",
     "output_type": "stream",
     "text": [
      "Enter any number457\n",
      "754\n"
     ]
    }
   ],
   "source": [
    "n = (int)(input(\"Enter any number\"))\n",
    "\n",
    "rev = 0\n",
    "while n!=0:\n",
    "    rem = n%10\n",
    "    rev = (rev*10) + rem\n",
    "    n = n//10\n",
    "print(rev)\n",
    "        "
   ]
  },
  {
   "cell_type": "code",
   "execution_count": 14,
   "id": "913f8de8",
   "metadata": {},
   "outputs": [
    {
     "name": "stdout",
     "output_type": "stream",
     "text": [
      "Enter the stop point = 7\n",
      "1 1 2 3 5 \n",
      "total terms =  5\n"
     ]
    }
   ],
   "source": [
    "stopPoint = (int)(input(\"Enter the stop point = \"))\n",
    "\n",
    "count = 2\n",
    "a = 1\n",
    "print(a,end = \" \")\n",
    "b = 1\n",
    "print(b,end = \" \")\n",
    "\n",
    "c = a + b\n",
    "\n",
    "while c<=stopPoint:\n",
    "    print(c,end = \" \")\n",
    "    count = count + 1\n",
    "    a=b\n",
    "    b=c\n",
    "    c= a + b\n",
    "print(\"\\ntotal terms = \",count)"
   ]
  },
  {
   "cell_type": "code",
   "execution_count": 20,
   "id": "c1104297",
   "metadata": {},
   "outputs": [
    {
     "name": "stdout",
     "output_type": "stream",
     "text": [
      "Enter the term number = 1\n",
      "1\n"
     ]
    }
   ],
   "source": [
    "TermNum = (int)(input(\"Enter the term number = \"))\n",
    "\n",
    "count = 2\n",
    "a = 1\n",
    "b = 1\n",
    "c = a + b\n",
    "if TermNum == 1 or TermNum ==2:\n",
    "    print(1)\n",
    "else:\n",
    "    while True:\n",
    "        count = count + 1\n",
    "        if count == TermNum:\n",
    "            print(c)\n",
    "            break;\n",
    "        a = b\n",
    "        b = c\n",
    "        c = a + b\n",
    "\n",
    "    "
   ]
  },
  {
   "cell_type": "code",
   "execution_count": 1,
   "id": "11e3039f",
   "metadata": {},
   "outputs": [
    {
     "ename": "NameError",
     "evalue": "name 'numbers' is not defined",
     "output_type": "error",
     "traceback": [
      "\u001b[1;31m---------------------------------------------------------------------------\u001b[0m",
      "\u001b[1;31mNameError\u001b[0m                                 Traceback (most recent call last)",
      "Input \u001b[1;32mIn [1]\u001b[0m, in \u001b[0;36m<cell line: 3>\u001b[1;34m()\u001b[0m\n\u001b[0;32m      1\u001b[0m fruits \u001b[38;5;241m=\u001b[39m [\u001b[38;5;124m'\u001b[39m\u001b[38;5;124mapple\u001b[39m\u001b[38;5;124m'\u001b[39m, \u001b[38;5;124m'\u001b[39m\u001b[38;5;124mmangoes\u001b[39m\u001b[38;5;124m'\u001b[39m, \u001b[38;5;124m'\u001b[39m\u001b[38;5;124moranges\u001b[39m\u001b[38;5;124m'\u001b[39m, \u001b[38;5;124m'\u001b[39m\u001b[38;5;124mwater melon\u001b[39m\u001b[38;5;124m'\u001b[39m, \u001b[38;5;124m'\u001b[39m\u001b[38;5;124mgrapes\u001b[39m\u001b[38;5;124m'\u001b[39m]\n\u001b[1;32m----> 3\u001b[0m \u001b[38;5;28;01mfor\u001b[39;00m i \u001b[38;5;129;01min\u001b[39;00m \u001b[43mnumbers\u001b[49m:\n\u001b[0;32m      4\u001b[0m     \u001b[38;5;28mprint\u001b[39m(i)\n",
      "\u001b[1;31mNameError\u001b[0m: name 'numbers' is not defined"
     ]
    }
   ],
   "source": [
    "fruits = ['apple', 'mangoes', 'oranges', 'water melon', 'grapes']\n",
    "\n",
    "for i in numbers:\n",
    "    print(i)"
   ]
  },
  {
   "cell_type": "code",
   "execution_count": 3,
   "id": "a80cc492",
   "metadata": {},
   "outputs": [
    {
     "name": "stdout",
     "output_type": "stream",
     "text": [
      "value of i = 0\n",
      "\n",
      "value of i = 1\n",
      "\n",
      "value of i = 2\n",
      "\n",
      "value of i = 3\n",
      "\n",
      "value of i = 4\n",
      "\n",
      "value of i = 5\n",
      "\n",
      "value of i = 6\n",
      "\n",
      "value of i = 7\n",
      "\n",
      "value of i = 9\n",
      "\n",
      "program ended\n"
     ]
    }
   ],
   "source": [
    "for i in range(10):\n",
    "    #print(i,end = ' ')\n",
    "    if i==8:\n",
    "        continue\n",
    "    print(\"value of i =\",i)\n",
    "    print(\"\")\n",
    "print(\"program ended\")"
   ]
  },
  {
   "cell_type": "code",
   "execution_count": 4,
   "id": "f31926ce",
   "metadata": {},
   "outputs": [
    {
     "name": "stdout",
     "output_type": "stream",
     "text": [
      "end\n"
     ]
    }
   ],
   "source": [
    "i = 2\n",
    "if i>2:\n",
    "    pass\n",
    "else:\n",
    "    pass\n",
    "\n",
    "print(\"end\")"
   ]
  },
  {
   "cell_type": "code",
   "execution_count": 12,
   "id": "f440261f",
   "metadata": {},
   "outputs": [
    {
     "name": "stdout",
     "output_type": "stream",
     "text": [
      "enter the value of n5\n",
      "5 x 1 = 5\n",
      "5 x 2 = 10\n",
      "5 x 3 = 15\n",
      "5 x 4 = 20\n",
      "5 x 5 = 25\n",
      "5 x 6 = 30\n",
      "5 x 7 = 35\n",
      "5 x 8 = 40\n",
      "5 x 9 = 45\n",
      "5 x 10 = 50\n"
     ]
    }
   ],
   "source": [
    "n = (int)(input(\"enter the value of n\"))\n",
    "\n",
    "for i in range(1,11):\n",
    "    print(n,\"x\",i,\"=\", n*i)"
   ]
  },
  {
   "cell_type": "code",
   "execution_count": null,
   "id": "9219076c",
   "metadata": {},
   "outputs": [],
   "source": [
    "n = (int)(input(\"enter the value of n\"))\n",
    "\n",
    "fact =1\n",
    "for i in range(i,n+1):\n",
    "    \n"
   ]
  },
  {
   "cell_type": "code",
   "execution_count": 6,
   "id": "d6d5bb64",
   "metadata": {},
   "outputs": [
    {
     "name": "stdout",
     "output_type": "stream",
     "text": [
      "enter any number1\n",
      "number is NOT composite\n"
     ]
    }
   ],
   "source": [
    "number = (int)(input(\"enter any number\"))\n",
    "\n",
    "isComposite = 0\n",
    "\n",
    "for i in range(2,number):\n",
    "    if number%i==0:\n",
    "        isComposite = 1\n",
    "        break\n",
    "        \n",
    "if isComposite==1:\n",
    "    print(\"number is composite\")\n",
    "else:\n",
    "    print(\"number is NOT composite\")"
   ]
  },
  {
   "cell_type": "code",
   "execution_count": 13,
   "id": "b41c72b3",
   "metadata": {},
   "outputs": [
    {
     "name": "stdout",
     "output_type": "stream",
     "text": [
      "enter any number21\n",
      "number is NOt prime\n"
     ]
    }
   ],
   "source": [
    "number = (int)(input(\"enter any number\"))\n",
    "\n",
    "flag = False\n",
    "\n",
    "for i in range(2,number):\n",
    "    if number%i==0:\n",
    "        flag = True\n",
    "        \n",
    "if flag:\n",
    "    print(\"number is NOt prime\")\n",
    "else:\n",
    "    print(\"number is prime\")"
   ]
  },
  {
   "cell_type": "code",
   "execution_count": 14,
   "id": "317b397f",
   "metadata": {},
   "outputs": [
    {
     "name": "stdout",
     "output_type": "stream",
     "text": [
      "enter the lowerbound2\n",
      "enter the upperbound5\n",
      "count the prime numbers = 1\n"
     ]
    }
   ],
   "source": [
    "lb = (int)(input(\"enter the lowerbound\"))\n",
    "ub = (int)(input(\"enter the upperbound\"))\n",
    "\n",
    "count = 0;\n",
    "for number in range(lb,ub+1):\n",
    "    isComposite = 0\n",
    "    for i in range(2,number):\n",
    "        if number%1==0:\n",
    "            isComposite = 1\n",
    "            break\n",
    "            \n",
    "    if isComposite==0:\n",
    "        count = count + 1\n",
    "    \n",
    "print(\"count the prime numbers =\",count)"
   ]
  },
  {
   "cell_type": "code",
   "execution_count": 15,
   "id": "9c0bf89a",
   "metadata": {},
   "outputs": [
    {
     "name": "stdout",
     "output_type": "stream",
     "text": [
      "0 \n",
      "1 2 \n",
      "3 4 5 \n",
      "6 7 8 9 \n"
     ]
    }
   ],
   "source": [
    "count = 0\n",
    "\n",
    "for r in range(1,5):\n",
    "    for c in range(1,r+1):\n",
    "        print(count,end=' ')\n",
    "        count = count + 1\n",
    "    print()\n",
    "        "
   ]
  },
  {
   "cell_type": "code",
   "execution_count": 4,
   "id": "403c9424",
   "metadata": {},
   "outputs": [
    {
     "name": "stdout",
     "output_type": "stream",
     "text": [
      "20\n",
      "-6.666666666666667\n"
     ]
    }
   ],
   "source": [
    "tempF = int(input())\n",
    "tempC = (tempF -32)*5/9\n",
    "print(tempC)"
   ]
  },
  {
   "cell_type": "code",
   "execution_count": 3,
   "id": "aab47ed1",
   "metadata": {},
   "outputs": [
    {
     "name": "stdout",
     "output_type": "stream",
     "text": [
      "100\n",
      "5\n",
      "6\n",
      "30.0\n"
     ]
    }
   ],
   "source": [
    "p = int(input())\n",
    "r = int(input())\n",
    "t = int(input())\n",
    "SI = (p*r*t)/100\n",
    "print(SI)"
   ]
  },
  {
   "cell_type": "code",
   "execution_count": 6,
   "id": "9734056f",
   "metadata": {},
   "outputs": [
    {
     "name": "stdout",
     "output_type": "stream",
     "text": [
      "2\n",
      "2\n",
      "2\n",
      "1.7320508075688772\n"
     ]
    }
   ],
   "source": [
    "a = int(input())\n",
    "b = int(input())\n",
    "c = int(input())\n",
    "s = (a+b+c)/2\n",
    "area = (s*(s-a)*(s-b)*(s-c))**(1/2)\n",
    "print(area)"
   ]
  },
  {
   "cell_type": "code",
   "execution_count": 1,
   "id": "b1cfd650",
   "metadata": {},
   "outputs": [
    {
     "name": "stdout",
     "output_type": "stream",
     "text": [
      "enter the first number5\n",
      "enter the second number6\n",
      "11\n"
     ]
    }
   ],
   "source": [
    "a = int(input(\"enter the first number\"))\n",
    "b = int(input(\"enter the second number\"))\n",
    "sum = a + b\n",
    "print(sum)"
   ]
  },
  {
   "cell_type": "code",
   "execution_count": 1,
   "id": "d75ad3c6",
   "metadata": {},
   "outputs": [
    {
     "name": "stdout",
     "output_type": "stream",
     "text": [
      "<class 'int'>\n",
      "<class 'float'>\n",
      "<class 'complex'>\n",
      "<class 'str'>\n"
     ]
    }
   ],
   "source": [
    "a = 10\n",
    "b = 5.6\n",
    "c =4 + 5j\n",
    "d = 'a'\n",
    "print(type(a))\n",
    "print(type(b))\n",
    "print(type(c))\n",
    "print(type(d))\n"
   ]
  },
  {
   "cell_type": "code",
   "execution_count": 6,
   "id": "906663cd",
   "metadata": {},
   "outputs": [
    {
     "name": "stdout",
     "output_type": "stream",
     "text": [
      "68\n",
      "you are too old to join facebook\n"
     ]
    }
   ],
   "source": [
    "a = int(input())\n",
    "if 18<a<=60:\n",
    "    print(\"join facebook\")\n",
    "elif a>60:\n",
    "    print(\"you are too old to join facebook\")\n",
    "else:\n",
    "    print(\"not eligble\")\n",
    "    \n"
   ]
  },
  {
   "cell_type": "code",
   "execution_count": 10,
   "id": "57c9ee42",
   "metadata": {},
   "outputs": [
    {
     "name": "stdout",
     "output_type": "stream",
     "text": [
      "enter the lower bound=5\n",
      "enter the upper bound=20\n",
      "5\n",
      "7\n",
      "11\n",
      "13\n",
      "17\n",
      "19\n"
     ]
    }
   ],
   "source": [
    "n = int(input(\"enter the lower bound=\"))\n",
    "m = int(input(\"enter the upper bound=\"))\n",
    "count = 0\n",
    "for a in range(n,m+1):\n",
    "    Isnotprime = 0\n",
    "    for i in range(2,n):\n",
    "        if(a%i==0):\n",
    "            Isnotprime=1\n",
    "            break\n",
    "    if Isnotprime==0:\n",
    "        count=count+1\n",
    "        print(a)\n",
    "            \n",
    "            \n",
    "            "
   ]
  },
  {
   "cell_type": "code",
   "execution_count": 11,
   "id": "2e737728",
   "metadata": {},
   "outputs": [
    {
     "name": "stdout",
     "output_type": "stream",
     "text": [
      "enter the first number2\n",
      "enter the second number4\n",
      "enter the third number4\n",
      "b is largest\n"
     ]
    }
   ],
   "source": [
    "a = int(input(\"enter the first number\"))\n",
    "b = int(input(\"enter the second number\"))\n",
    "c = int(input(\"enter the third number\"))\n",
    "if c<a>b:\n",
    "    print(\"a is large\")\n",
    "elif b<c>a:\n",
    "    print(\"c is lagest\")\n",
    "else:\n",
    "    print(\"b is largest\")\n",
    "    "
   ]
  },
  {
   "cell_type": "code",
   "execution_count": 20,
   "id": "07b2bfc4",
   "metadata": {},
   "outputs": [
    {
     "name": "stdout",
     "output_type": "stream",
     "text": [
      "enter the number=9\n",
      "3.0\n"
     ]
    }
   ],
   "source": [
    "n = int(input(\"enter the number=\"))\n",
    "squareroot=n**(1/2)\n",
    "print(squareroot)\n"
   ]
  },
  {
   "cell_type": "code",
   "execution_count": 18,
   "id": "7ea3b7b8",
   "metadata": {},
   "outputs": [
    {
     "name": "stdout",
     "output_type": "stream",
     "text": [
      "enter the number=4\n",
      "1\n",
      "9\n",
      "36\n",
      "100\n"
     ]
    }
   ],
   "source": [
    "n = int(input(\"enter the number=\"))\n",
    "sum = 0\n",
    "for i in range(1,n+1):\n",
    "    sum+=i**3\n",
    "    print(sum)"
   ]
  },
  {
   "cell_type": "code",
   "execution_count": 2,
   "id": "42577cb7",
   "metadata": {},
   "outputs": [
    {
     "name": "stdout",
     "output_type": "stream",
     "text": [
      "69\n",
      "number is not an armstrong\n"
     ]
    }
   ],
   "source": [
    "n = int(input())\n",
    "s = 0\n",
    "t = n\n",
    "while t>0:\n",
    "    k=t%10\n",
    "    s += k**3\n",
    "    t//=10\n",
    "if s == n:\n",
    "    print(\"number is an armstrong\")\n",
    "else:\n",
    "    print(\"number is not an armstrong\")\n",
    "    "
   ]
  },
  {
   "cell_type": "code",
   "execution_count": 12,
   "id": "ea7d6093",
   "metadata": {},
   "outputs": [
    {
     "name": "stdout",
     "output_type": "stream",
     "text": [
      "enter the number = 45\n",
      "odd\n"
     ]
    }
   ],
   "source": [
    "n = int(input(\"enter the number = \"))\n",
    "if n%2==0:\n",
    "    print(\"even\")\n",
    "else:\n",
    "    print(\"odd\")\n",
    "    "
   ]
  },
  {
   "cell_type": "code",
   "execution_count": 13,
   "id": "6f54c656",
   "metadata": {},
   "outputs": [
    {
     "name": "stdout",
     "output_type": "stream",
     "text": [
      "[12, 8, 9, 2, 5]\n",
      "sum of list 36\n"
     ]
    }
   ],
   "source": [
    "list = [12,8,9,2,5]\n",
    "print(list)\n",
    "print(\"sum of list\",sum(list))"
   ]
  },
  {
   "cell_type": "code",
   "execution_count": 18,
   "id": "12a8ac20",
   "metadata": {},
   "outputs": [
    {
     "name": "stdout",
     "output_type": "stream",
     "text": [
      "enter the number = 6\n",
      "the factorial of 6 is 1\n"
     ]
    }
   ],
   "source": [
    "n = int(input(\"enter the number = \"))\n",
    "factorial = 1\n",
    "for i in range(1,n+1):\n",
    "    factorail = factorial*i\n",
    "print(\"the factorial of\",n,\"is\",factorial)"
   ]
  },
  {
   "cell_type": "markdown",
   "id": "049f4de1",
   "metadata": {},
   "source": []
  },
  {
   "cell_type": "code",
   "execution_count": 20,
   "id": "1cb4a330",
   "metadata": {},
   "outputs": [
    {
     "name": "stdout",
     "output_type": "stream",
     "text": [
      "enter the principle2\n",
      "enter the rate of intrest4\n",
      "enter the time period5\n",
      "0.4\n"
     ]
    }
   ],
   "source": [
    "p = int(input(\"enter the principle\"))\n",
    "r = int(input(\"enter the rate of intrest\"))\n",
    "t = int(input(\"enter the time period\"))\n",
    "SI = (p*r*t)/100\n",
    "print(SI)"
   ]
  },
  {
   "cell_type": "code",
   "execution_count": null,
   "id": "ac7b1459",
   "metadata": {},
   "outputs": [],
   "source": [
    "# REVERSE THE CONTENT OF LIST DISPLAY WITHOUT THE REVERSE OF METHODS\n",
    "# print the alternate elements from the list\n",
    "# PRINT MAXIMUM ELEMENT IN A LIST\n",
    "# ROTATE THE ELEMENTS IN A LIST(FIRST INDEX MOVES TO 2ND INDEX,LIKE LAST INDEX MOVES TO 1ST INDEX)\n",
    "# WRITE A PROGRAM i/p A STRING AND ASK USER TO DELETE A GIVEN WORD FROM A STRING\n",
    "#5\n",
    ".text = input('enter a string:') \n",
    "words = text.split()\n",
    "data = input('enter a word to delete')\n",
    "status = false\n",
    "for words in woods:\n",
    "    if word == data\n",
    "    words.remove(word)\n",
    "    status = True\n",
    "    \n"
   ]
  },
  {
   "cell_type": "code",
   "execution_count": 21,
   "id": "3f588b31",
   "metadata": {},
   "outputs": [
    {
     "name": "stdout",
     "output_type": "stream",
     "text": [
      "5\n",
      "6\n",
      "7\n",
      "7 is greater\n"
     ]
    }
   ],
   "source": [
    "a = int(input())\n",
    "b = int(input())\n",
    "c = int(input())\n",
    "if c<a>b:\n",
    "    print(a,\"is greater\")\n",
    "elif a<b>c:\n",
    "    print(b,\"is greater\")\n",
    "else:\n",
    "    print(c,\"is greater\")"
   ]
  },
  {
   "cell_type": "code",
   "execution_count": 18,
   "id": "a52a7651",
   "metadata": {},
   "outputs": [
    {
     "name": "stdout",
     "output_type": "stream",
     "text": [
      "4\n",
      "1\n",
      "2\n",
      "3\n",
      "4\n",
      "[1, 2, 3, 4]\n"
     ]
    }
   ],
   "source": [
    "li=[]\n",
    "n=int(input())\n",
    "for i in range (n):\n",
    "    li.append(int(input()))\n",
    "print(li)"
   ]
  },
  {
   "cell_type": "code",
   "execution_count": 38,
   "id": "1d2af69d",
   "metadata": {},
   "outputs": [
    {
     "name": "stdout",
     "output_type": "stream",
     "text": [
      "4 3 2 1\n",
      "4 3 2 1\n",
      "<class 'str'>\n",
      "['4', '3', '2', '1']\n",
      "[4, 3, 2, 1]\n"
     ]
    }
   ],
   "source": [
    "str = input()\n",
    "print(str)\n",
    "print(type(str))\n",
    "\n",
    "str_split = str.split(' ')\n",
    "print(str_split)\n",
    "li = []\n",
    "for j in str_split:\n",
    "    li.append(int(j))\n",
    "print(li)"
   ]
  },
  {
   "cell_type": "code",
   "execution_count": 37,
   "id": "66a7524d",
   "metadata": {},
   "outputs": [
    {
     "name": "stdout",
     "output_type": "stream",
     "text": [
      "4 5 6 7 8\n",
      "[4, 5, 6, 7, 8]\n",
      "<class 'int'>\n"
     ]
    }
   ],
   "source": [
    "li=[int(x) for x in input().split()]\n",
    "li[0]=li[0]\n",
    "print(li)\n",
    "print(type(li[0]))"
   ]
  },
  {
   "cell_type": "code",
   "execution_count": 35,
   "id": "378d011f",
   "metadata": {},
   "outputs": [
    {
     "name": "stdout",
     "output_type": "stream",
     "text": [
      "5 4 3 2\n",
      "['5', '4', '3', '2']\n"
     ]
    }
   ],
   "source": [
    "lis=[i for i in input().split()]\n",
    "print(lis)"
   ]
  },
  {
   "cell_type": "code",
   "execution_count": 39,
   "id": "b4861321",
   "metadata": {},
   "outputs": [
    {
     "name": "stdout",
     "output_type": "stream",
     "text": [
      "[909078, 3, 4]\n"
     ]
    }
   ],
   "source": [
    "def test(li2):\n",
    "    li2[0] = 909078\n",
    "    \n",
    "    \n",
    "li = [2,3,4]\n",
    "test(li)\n",
    "print(li)"
   ]
  },
  {
   "cell_type": "code",
   "execution_count": 42,
   "id": "f9e2e381",
   "metadata": {},
   "outputs": [
    {
     "name": "stdout",
     "output_type": "stream",
     "text": [
      "9\n"
     ]
    }
   ],
   "source": [
    "#call by reference\n",
    "def test2(x):\n",
    "    x = 0\n",
    "    \n",
    "    \n",
    "x = 9\n",
    "test2(x)\n",
    "print(x)"
   ]
  },
  {
   "cell_type": "code",
   "execution_count": 52,
   "id": "ecc8fc70",
   "metadata": {},
   "outputs": [
    {
     "name": "stdout",
     "output_type": "stream",
     "text": [
      "8\n"
     ]
    }
   ],
   "source": [
    "def linearSearch(li,key):\n",
    "    for i in range(len(li)):\n",
    "        if(li[i]==key):\n",
    "            return i\n",
    "li=[3,4,5]\n",
    "key=int(input())\n",
    "linearSearch(li,key)"
   ]
  },
  {
   "cell_type": "code",
   "execution_count": 11,
   "id": "217476ff",
   "metadata": {},
   "outputs": [
    {
     "name": "stdout",
     "output_type": "stream",
     "text": [
      "4\n",
      "\n",
      "\n",
      "\n",
      "\n"
     ]
    }
   ],
   "source": [
    "n = int(input())\n",
    "i = 1\n",
    "while i <= n:\n",
    "    j = j + 1\n",
    "    while j <= n:\n",
    "        print('*',end =' ')\n",
    "        j = j + 1\n",
    "    print()\n",
    "    i = i + 1\n",
    "    "
   ]
  },
  {
   "cell_type": "code",
   "execution_count": 24,
   "id": "7008e57f",
   "metadata": {},
   "outputs": [
    {
     "name": "stdout",
     "output_type": "stream",
     "text": [
      "4\n",
      "****\n",
      "****\n",
      "****\n",
      "****\n"
     ]
    }
   ],
   "source": [
    "n = int(input())\n",
    "i = 1\n",
    "while i <= n:\n",
    "    j = 1\n",
    "    while j <= n:\n",
    "        print('*', end ='')\n",
    "        j = j + 1\n",
    "    print()\n",
    "    i = i + 1"
   ]
  },
  {
   "cell_type": "code",
   "execution_count": 1,
   "id": "433dffc2",
   "metadata": {},
   "outputs": [
    {
     "name": "stdout",
     "output_type": "stream",
     "text": [
      "345\n",
      "543\n",
      "Not palindrome\n"
     ]
    }
   ],
   "source": [
    "n = int(input())\n",
    "temp = n\n",
    "rev = 0\n",
    "check = n\n",
    "while n>0:\n",
    "    lastdigit = n%10\n",
    "    rev = rev*10+lastdigit\n",
    "    n = n//10\n",
    "print(rev)\n",
    "if check == n:\n",
    "    print(\"Palindrome\")\n",
    "    \n",
    "else:\n",
    "    print(\"Not palindrome\")"
   ]
  },
  {
   "cell_type": "code",
   "execution_count": 3,
   "id": "4ab4920e",
   "metadata": {},
   "outputs": [
    {
     "name": "stdout",
     "output_type": "stream",
     "text": [
      "[1]\n",
      "[1, 4]\n",
      "[1, 4, 9]\n",
      "[1, 4, 9, 16]\n",
      "[1, 4, 9, 16, 25]\n"
     ]
    }
   ],
   "source": [
    "#Square of each element in a list without using input function\n",
    "list1 = [1,2,3,4,5]\n",
    "list2 = []\n",
    "for i in list1:\n",
    "    square = i**2\n",
    "    list2.append(square)\n",
    "    print(list2)"
   ]
  },
  {
   "cell_type": "code",
   "execution_count": 15,
   "id": "2f428a69",
   "metadata": {},
   "outputs": [
    {
     "name": "stdout",
     "output_type": "stream",
     "text": [
      "[4]\n"
     ]
    }
   ],
   "source": [
    "list1 = [1,2,3,4,5]\n",
    "list2 = [list2**2 for list2 in list1 if list2==2]\n",
    "print(list2)"
   ]
  },
  {
   "cell_type": "code",
   "execution_count": null,
   "id": "7b8c7368",
   "metadata": {},
   "outputs": [],
   "source": [
    "#write a program to add two matrices of size nxm\n",
    "#write a program to multiply 2 matrix\n",
    "#find sum of each row of matrix\n",
    "#Given an integer n.create a matrix size(nxn)\n",
    "#(i)positions on the minor diagonal(from the upper right to lower left corner)receive 1\n",
    "#(ii)positions above the diagonal receive 0\n",
    "#(iii)positions blew the diagonal receive 2\n",
    "#"
   ]
  },
  {
   "cell_type": "code",
   "execution_count": 17,
   "id": "c21d481c",
   "metadata": {},
   "outputs": [
    {
     "ename": "SyntaxError",
     "evalue": "invalid syntax (2406501769.py, line 12)",
     "output_type": "error",
     "traceback": [
      "\u001b[1;36m  Input \u001b[1;32mIn [17]\u001b[1;36m\u001b[0m\n\u001b[1;33m    print(' ' join([str(elem)for elem in row]))\u001b[0m\n\u001b[1;37m              ^\u001b[0m\n\u001b[1;31mSyntaxError\u001b[0m\u001b[1;31m:\u001b[0m invalid syntax\n"
     ]
    }
   ],
   "source": [
    "n = 4\n",
    "a = [[0]*n for i in range(n)]\n",
    "for i in range(n):\n",
    "    for j in range(n):\n",
    "        if i>j:\n",
    "            a[i][j] = 0\n",
    "        elif i < j:\n",
    "            a[i][j] = 2`\n",
    "        else:\n",
    "            a[i][j] = 1\n",
    "        for row in a:\n",
    "            print(' 'join([str(elem)for elem in row]))\n",
    "                "
   ]
  },
  {
   "cell_type": "code",
   "execution_count": 3,
   "id": "d179e9c9",
   "metadata": {},
   "outputs": [
    {
     "name": "stdout",
     "output_type": "stream",
     "text": [
      "number of units = 350\n",
      "Bill amount =  2000\n"
     ]
    }
   ],
   "source": [
    "n = int(input(\"number of units = \"))\n",
    "if n<=100:\n",
    "    print(\"No charge\")\n",
    "elif n<=200:\n",
    "    print(\"Bill amount = \",(n-100)*5)\n",
    "else:\n",
    "    print(\"Bill amount = \",500+(n-200)*10)"
   ]
  },
  {
   "cell_type": "code",
   "execution_count": 9,
   "id": "edbf63e7",
   "metadata": {},
   "outputs": [
    {
     "name": "stdout",
     "output_type": "stream",
     "text": [
      "enter the number5\n",
      "15\n"
     ]
    }
   ],
   "source": [
    "n = int(input(\"enter the number\"))\n",
    "i = 1\n",
    "sum = 0\n",
    "while i<=n:\n",
    "    sum = sum + i\n",
    "    i = i + 1\n",
    "    \n",
    "print(sum)    \n"
   ]
  },
  {
   "cell_type": "code",
   "execution_count": 12,
   "id": "5624015a",
   "metadata": {},
   "outputs": [
    {
     "name": "stdout",
     "output_type": "stream",
     "text": [
      "10\n",
      "100\n",
      "81\n",
      "64\n",
      "49\n",
      "36\n",
      "25\n",
      "16\n",
      "9\n",
      "4\n",
      "1\n"
     ]
    }
   ],
   "source": [
    "n = int(input())\n",
    "i = 1\n",
    "while n>0:\n",
    "    i = n*n\n",
    "    n = n - 1\n",
    "    print(i)\n",
    "    \n",
    "    \n",
    "    \n",
    "    "
   ]
  },
  {
   "cell_type": "code",
   "execution_count": 19,
   "id": "123aa571",
   "metadata": {},
   "outputs": [
    {
     "name": "stdout",
     "output_type": "stream",
     "text": [
      "[5, 6, 7, 9, 10]\n",
      "[12, 15, 20, 25, 30]\n",
      "[7, 4, 2, 1, 4]\n",
      "[80, 82, 1008, 94, 102]\n",
      "94\n"
     ]
    },
    {
     "ename": "IndexError",
     "evalue": "list index out of range",
     "output_type": "error",
     "traceback": [
      "\u001b[1;31m---------------------------------------------------------------------------\u001b[0m",
      "\u001b[1;31mIndexError\u001b[0m                                Traceback (most recent call last)",
      "Input \u001b[1;32mIn [19]\u001b[0m, in \u001b[0;36m<cell line: 9>\u001b[1;34m()\u001b[0m\n\u001b[0;32m      7\u001b[0m \u001b[38;5;28mprint\u001b[39m(li_2D[\u001b[38;5;241m3\u001b[39m])\n\u001b[0;32m      8\u001b[0m \u001b[38;5;28mprint\u001b[39m(li_2D[\u001b[38;5;241m3\u001b[39m][\u001b[38;5;241m3\u001b[39m])\n\u001b[1;32m----> 9\u001b[0m \u001b[38;5;28mprint\u001b[39m(\u001b[43mli_2D\u001b[49m\u001b[43m[\u001b[49m\u001b[38;5;241;43m3\u001b[39;49m\u001b[43m]\u001b[49m\u001b[43m[\u001b[49m\u001b[38;5;241;43m5\u001b[39;49m\u001b[43m]\u001b[49m)\n",
      "\u001b[1;31mIndexError\u001b[0m: list index out of range"
     ]
    }
   ],
   "source": [
    "li_2D = [[5,6,7,9,10],[12,15,20,25,30],[32,40,112,46,70],[80,82,92,94,102],[7,4,2,1,4]]\n",
    "li_2D[3][2] = 1008\n",
    "\n",
    "print(li_2D[0])\n",
    "print(li_2D[1])\n",
    "print(li_2D[4])\n",
    "print(li_2D[3])\n",
    "print(li_2D[3][3])\n",
    "print(li_2D[3][5])\n"
   ]
  },
  {
   "cell_type": "code",
   "execution_count": 21,
   "id": "89e543dd",
   "metadata": {},
   "outputs": [
    {
     "name": "stdout",
     "output_type": "stream",
     "text": [
      "5\n",
      "6\n",
      "7\n",
      "9\n",
      "10\n",
      "\n",
      "12\n",
      "15\n",
      "20\n",
      "25\n",
      "30\n",
      "\n",
      "32\n",
      "40\n",
      "112\n",
      "46\n",
      "70\n",
      "\n",
      "80\n",
      "82\n",
      "92\n",
      "94\n",
      "102\n",
      "\n",
      "7\n",
      "4\n",
      "2\n",
      "1\n",
      "4\n",
      "\n"
     ]
    }
   ],
   "source": [
    "li_2D = [[5,6,7,9,10],[12,15,20,25,30],[32,40,112,46,70],[80,82,92,94,102],[7,4,2,1,4]]\n",
    "for r in range(0,5):\n",
    "    for c in range(0,5):\n",
    "        print(li_2D[r][c])\n",
    "    print()\n"
   ]
  },
  {
   "cell_type": "code",
   "execution_count": 26,
   "id": "c5eda9f9",
   "metadata": {},
   "outputs": [
    {
     "name": "stdout",
     "output_type": "stream",
     "text": [
      "5\n",
      "6\n",
      "7\n",
      "\n",
      "12\n",
      "15\n",
      "20\n",
      "25\n",
      "30\n",
      "\n",
      "32\n",
      "40\n",
      "112\n",
      "46\n",
      "70\n",
      "\n",
      "80\n",
      "82\n",
      "92\n",
      "94\n",
      "102\n",
      "\n",
      "7\n",
      "4\n",
      "2\n",
      "1\n",
      "4\n",
      "\n"
     ]
    }
   ],
   "source": [
    "li_2D = [[5,6,7],[12,15,20,25,30],[32,40,112,46,70],[80,82,92,94,102],[7,4,2,1,4]]\n",
    "for r in range(0,5):\n",
    "    for c in range(0,len(li_2D[r])):\n",
    "        print(li_2D[r][c])\n",
    "    print()"
   ]
  },
  {
   "cell_type": "code",
   "execution_count": 3,
   "id": "04d368bd",
   "metadata": {},
   "outputs": [
    {
     "name": "stdout",
     "output_type": "stream",
     "text": [
      "5\n",
      "6\n",
      "4\n",
      "7\n",
      "3\n",
      "8\n",
      "[6, 4, 7, 3, 8]\n"
     ]
    }
   ],
   "source": [
    "#append single dimentional array\n",
    "n = int(input())\n",
    "a = []\n",
    "for i in range(n):\n",
    "    b = int(input())\n",
    "    a.append(b)\n",
    "print(a)\n",
    "\n"
   ]
  },
  {
   "cell_type": "code",
   "execution_count": 5,
   "id": "0c4e0b2f",
   "metadata": {},
   "outputs": [
    {
     "name": "stdout",
     "output_type": "stream",
     "text": [
      "enter the number of rows2\n",
      "enter the number of columns2\n",
      "56\n",
      "76\n",
      "[[56, 76]]\n",
      "56\n",
      "76\n",
      "[[56, 76], [56, 76]]\n"
     ]
    }
   ],
   "source": [
    "#\n",
    "li = []\n",
    "m = int(input(\"enter the number of rows\"))\n",
    "n = int(input(\"enter the number of columns\"))\n",
    "for i in range(m):\n",
    "    d = []\n",
    "    for j in range(n):\n",
    "        d.append(int(input()))\n",
    "    li.append(d)\n",
    "    print(li)"
   ]
  },
  {
   "cell_type": "code",
   "execution_count": 4,
   "id": "969574f7",
   "metadata": {},
   "outputs": [
    {
     "name": "stdout",
     "output_type": "stream",
     "text": [
      "my name is hitesh\n",
      "my nm s htsh\n"
     ]
    }
   ],
   "source": [
    "#\n",
    "a = input()\n",
    "s = [char for char in a if char not in (\"a\",\"e\",\"i\",\"o\",\"u\",\"A\",\"E\",\"I\",\"O\",\"U\")]\n",
    "print(\"\".join(s))"
   ]
  },
  {
   "cell_type": "code",
   "execution_count": 3,
   "id": "2192278f",
   "metadata": {},
   "outputs": [
    {
     "name": "stdout",
     "output_type": "stream",
     "text": [
      "[140, 160, 190]\n"
     ]
    }
   ],
   "source": [
    "#Write a python program to replace last value of tuples in a list\n",
    "list = [(10,20,40),(40,50,60),(70,80,90)]\n",
    "l = len(list)\n",
    "for i in range (l):\n",
    "    list[i] = list[i][l-1]+(100)\n",
    "print(list)"
   ]
  },
  {
   "cell_type": "code",
   "execution_count": null,
   "id": "ba1cda24",
   "metadata": {},
   "outputs": [],
   "source": [
    "thistuple = (        )\n",
    "Y = list(thistuple)\n",
    "Y[1] = \"bell\"\n",
    "this+"
   ]
  },
  {
   "cell_type": "code",
   "execution_count": 5,
   "id": "4f42bd58",
   "metadata": {},
   "outputs": [
    {
     "ename": "TypeError",
     "evalue": "'list' object is not callable",
     "output_type": "error",
     "traceback": [
      "\u001b[1;31m---------------------------------------------------------------------------\u001b[0m",
      "\u001b[1;31mTypeError\u001b[0m                                 Traceback (most recent call last)",
      "Input \u001b[1;32mIn [5]\u001b[0m, in \u001b[0;36m<cell line: 5>\u001b[1;34m()\u001b[0m\n\u001b[0;32m      1\u001b[0m \u001b[38;5;66;03m#Append value in tuple\u001b[39;00m\n\u001b[0;32m      3\u001b[0m thistuple \u001b[38;5;241m=\u001b[39m (\u001b[38;5;124m\"\u001b[39m\u001b[38;5;124mapple\u001b[39m\u001b[38;5;124m\"\u001b[39m,\u001b[38;5;124m\"\u001b[39m\u001b[38;5;124mbat\u001b[39m\u001b[38;5;124m\"\u001b[39m,\u001b[38;5;124m\"\u001b[39m\u001b[38;5;124mcat\u001b[39m\u001b[38;5;124m\"\u001b[39m,\u001b[38;5;124m\"\u001b[39m\u001b[38;5;124mDog\u001b[39m\u001b[38;5;124m\"\u001b[39m,\u001b[38;5;124m\"\u001b[39m\u001b[38;5;124melephant\u001b[39m\u001b[38;5;124m\"\u001b[39m)\n\u001b[1;32m----> 5\u001b[0m x \u001b[38;5;241m=\u001b[39m \u001b[38;5;28;43mlist\u001b[39;49m\u001b[43m(\u001b[49m\u001b[43mthistuple\u001b[49m\u001b[43m)\u001b[49m\n\u001b[0;32m      7\u001b[0m x\u001b[38;5;241m.\u001b[39mappend(\u001b[38;5;28minput\u001b[39m())\n\u001b[0;32m      9\u001b[0m x \u001b[38;5;241m=\u001b[39m \u001b[38;5;28mtuple\u001b[39m(x)\n",
      "\u001b[1;31mTypeError\u001b[0m: 'list' object is not callable"
     ]
    }
   ],
   "source": [
    "#Append value in tuple\n",
    "\n",
    "thistuple = (\"apple\",\"bat\",\"cat\",\"Dog\",\"elephant\")\n",
    "\n",
    "x = list(thistuple)\n",
    "\n",
    "x.append(input())\n",
    "\n",
    "x = tuple(x)\n",
    "\n",
    "print(x)"
   ]
  },
  {
   "cell_type": "code",
   "execution_count": 1,
   "id": "95d1c130",
   "metadata": {},
   "outputs": [
    {
     "name": "stdout",
     "output_type": "stream",
     "text": [
      "('apple', 'ball', 'cat', 'Dog', 'elephant')\n"
     ]
    }
   ],
   "source": [
    "#Change thistuple(1) to ball\n",
    "\n",
    "thistuple = (\"apple\",\"bat\",\"cat\",\"Dog\",\"elephant\")\n",
    "x = list(thistuple)\n",
    "\n",
    "x[1]=\"ball\"\n",
    "\n",
    "x = tuple(x)\n",
    "\n",
    "print(x)"
   ]
  },
  {
   "cell_type": "code",
   "execution_count": 7,
   "id": "e202e150",
   "metadata": {},
   "outputs": [
    {
     "ename": "TypeError",
     "evalue": "'list' object is not callable",
     "output_type": "error",
     "traceback": [
      "\u001b[1;31m---------------------------------------------------------------------------\u001b[0m",
      "\u001b[1;31mTypeError\u001b[0m                                 Traceback (most recent call last)",
      "Input \u001b[1;32mIn [7]\u001b[0m, in \u001b[0;36m<cell line: 3>\u001b[1;34m()\u001b[0m\n\u001b[0;32m      1\u001b[0m \u001b[38;5;66;03m#whether dog in present \u001b[39;00m\n\u001b[0;32m      2\u001b[0m thistuple \u001b[38;5;241m=\u001b[39m (\u001b[38;5;124m\"\u001b[39m\u001b[38;5;124mapple\u001b[39m\u001b[38;5;124m\"\u001b[39m,\u001b[38;5;124m\"\u001b[39m\u001b[38;5;124mbat\u001b[39m\u001b[38;5;124m\"\u001b[39m,\u001b[38;5;124m\"\u001b[39m\u001b[38;5;124mcat\u001b[39m\u001b[38;5;124m\"\u001b[39m,\u001b[38;5;124m\"\u001b[39m\u001b[38;5;124mDog\u001b[39m\u001b[38;5;124m\"\u001b[39m,\u001b[38;5;124m\"\u001b[39m\u001b[38;5;124melephant\u001b[39m\u001b[38;5;124m\"\u001b[39m)\n\u001b[1;32m----> 3\u001b[0m x\u001b[38;5;241m=\u001b[39m \u001b[38;5;28;43mlist\u001b[39;49m\u001b[43m(\u001b[49m\u001b[43mthistuple\u001b[49m\u001b[43m)\u001b[49m\n\u001b[0;32m      4\u001b[0m \u001b[38;5;28;01mfor\u001b[39;00m i \u001b[38;5;129;01min\u001b[39;00m x:\n\u001b[0;32m      5\u001b[0m     \u001b[38;5;28;01mif\u001b[39;00m i\u001b[38;5;241m==\u001b[39m\u001b[38;5;124m\"\u001b[39m\u001b[38;5;124mDog\u001b[39m\u001b[38;5;124m\"\u001b[39m:\n",
      "\u001b[1;31mTypeError\u001b[0m: 'list' object is not callable"
     ]
    }
   ],
   "source": [
    "#whether dog in present \n",
    "thistuple = (\"apple\",\"bat\",\"cat\",\"Dog\",\"elephant\")\n",
    "x= list(thistuple)\n",
    "for i in x:\n",
    "    if i==\"Dog\":\n",
    "        print(\"yes\")"
   ]
  },
  {
   "cell_type": "code",
   "execution_count": 3,
   "id": "3e37f6e4",
   "metadata": {},
   "outputs": [
    {
     "name": "stdout",
     "output_type": "stream",
     "text": [
      "my name is hitesh\n",
      "it is not hetrogram\n"
     ]
    }
   ],
   "source": [
    "#write a python program to check wheather a given string is hetrogram or not? \n",
    "string=input()\n",
    "not_hetro=False\n",
    "for i in range(len(string)):\n",
    "    if string[i]==' ':\n",
    "        continue\n",
    "    for j in range(i+1,len(string)):\n",
    "        if(string[i]==string[j]):\n",
    "            not_hetro=True\n",
    "if not_hetro==False:\n",
    "    print(\"It is hetrogram\")\n",
    "else:\n",
    "    print(\"it is not hetrogram\")"
   ]
  },
  {
   "cell_type": "code",
   "execution_count": 5,
   "id": "759e4516",
   "metadata": {},
   "outputs": [
    {
     "name": "stdout",
     "output_type": "stream",
     "text": [
      "the original list is : [(3, 4, 6, 723), (1, 2), (134, 234, 34)]\n",
      "sorted tuple : + str (testlist)\n"
     ]
    }
   ],
   "source": [
    "# given a tuple list , perform sort on basis of total digits in tuple \n",
    "\n",
    "def count_digs (tup) :\n",
    "    return sum([len(str(elem))for elem in tup])\n",
    "\n",
    "testlist = [(3,4,6,723), (1,2) , (134,234,34)]\n",
    "\n",
    "print(\"the original list is : \" + str (testlist))\n",
    "\n",
    "testlist.sort(key=count_digs)\n",
    "print(\"sorted tuple : + str (testlist)\")"
   ]
  },
  {
   "cell_type": "code",
   "execution_count": 3,
   "id": "2050e83a",
   "metadata": {},
   "outputs": [
    {
     "name": "stdout",
     "output_type": "stream",
     "text": [
      "False\n"
     ]
    }
   ],
   "source": [
    "def list(string):\n",
    "    l=string.split()\n",
    "    temp  = []\n",
    "    for x in l:\n",
    "        if x not in temp:\n",
    "            temp.append(x)\n",
    "    return' 'in (temp)\n",
    "string = \"jawa is good and python is also good\"\n",
    "print(list(string))\n"
   ]
  },
  {
   "cell_type": "markdown",
   "id": "43b1a4fb",
   "metadata": {},
   "source": [
    "# Revision question\n"
   ]
  },
  {
   "cell_type": "code",
   "execution_count": 11,
   "id": "f258bc0a",
   "metadata": {},
   "outputs": [
    {
     "name": "stdout",
     "output_type": "stream",
     "text": [
      "number of units = 250\n",
      "Bill amount =  1000\n"
     ]
    }
   ],
   "source": [
    "#1\n",
    "n = int(input(\"number of units = \"))\n",
    "if n<=100:\n",
    "    print(\"No charge\")\n",
    "elif n<=200:\n",
    "    print(\"Bill amount = \",(n-100)*5)\n",
    "else:\n",
    "    print(\"Bill amount = \",500+(n-200)*10)"
   ]
  },
  {
   "cell_type": "code",
   "execution_count": 27,
   "id": "2f1c3712",
   "metadata": {},
   "outputs": [
    {
     "name": "stdout",
     "output_type": "stream",
     "text": [
      "your gender is:male\n",
      "your salary is:9000\n",
      "10147.5\n"
     ]
    }
   ],
   "source": [
    "#2\n",
    "gender = input(\"your gender is:\")\n",
    "salary = int(input(\"your salary is:\"))\n",
    "if salary <= 10000:\n",
    "    new_salary = salary + (2.5*salary)/100\n",
    "    if gender == 'male':\n",
    "        newsalary = new_salary + (10*new_salary)/100\n",
    "        print(newsalary)\n",
    "    else:\n",
    "        newsalary = new_salary +(15*new_salary)/100\n",
    "        print(newsalary)\n",
    "else:\n",
    "    if gender == 'male':\n",
    "        newsalary = salary + (10*salary)/100\n",
    "        print(newsalary)\n",
    "    \n",
    "    else: \n",
    "        newsalary = salary +(15*salary)/100\n",
    "        print(newsalary)\n",
    "    \n",
    "    "
   ]
  },
  {
   "cell_type": "code",
   "execution_count": 49,
   "id": "5b02fd31",
   "metadata": {},
   "outputs": [
    {
     "ename": "SyntaxError",
     "evalue": "cannot assign to function call (2779783444.py, line 3)",
     "output_type": "error",
     "traceback": [
      "\u001b[1;36m  Input \u001b[1;32mIn [49]\u001b[1;36m\u001b[0m\n\u001b[1;33m    len(li) = int(input(\"Enter the size of list = \"))\u001b[0m\n\u001b[1;37m    ^\u001b[0m\n\u001b[1;31mSyntaxError\u001b[0m\u001b[1;31m:\u001b[0m cannot assign to function call\n"
     ]
    }
   ],
   "source": [
    "#3\n",
    "li =[]\n",
    "len(li) = int(input(\"Enter the size of list = \"))\n",
    "\n"
   ]
  },
  {
   "cell_type": "code",
   "execution_count": 1,
   "id": "9eb4343c",
   "metadata": {},
   "outputs": [
    {
     "name": "stdout",
     "output_type": "stream",
     "text": [
      "him is beautifulhim is beautiful him is beautiful\n"
     ]
    }
   ],
   "source": [
    "data = \"Himachal is beautifulHimachal is beautiful Himachal is beautiful\"\n",
    "nd = data.replace(\"Himachal\",\"him\")\n",
    "print(nd)"
   ]
  },
  {
   "cell_type": "code",
   "execution_count": 22,
   "id": "3edefbeb",
   "metadata": {},
   "outputs": [],
   "source": [
    "def wishing(name):\n",
    "    pr\n",
    "    \n",
    "    \n",
    "    \n",
    "    \n",
    "    \n",
    "    \n",
    "    \n",
    "    \n",
    "    \n",
    "    \n",
    "    \n",
    "    \n",
    "    \n",
    "    \n",
    "    \n",
    "    \n",
    "    \n",
    "    \n",
    "    \n",
    "    \n",
    "    \n",
    "    \n",
    "    \n",
    "    \n",
    "    \n",
    "    \n",
    "    \n",
    "    \n",
    "    \n",
    "    \n",
    "    \n",
    "    \n",
    "    \n",
    "    \n",
    "    \n",
    "    \n",
    "    \n",
    "    int(\"hai,\"+name)\n",
    "    \n",
    "person1={\n",
    "    \"name\":\"Harshita\",\n",
    "    \"age\":18,\n",
    "    \"country\":\"India\"\n",
    "    }"
   ]
  },
  {
   "cell_type": "code",
   "execution_count": 29,
   "id": "b26dd5aa",
   "metadata": {},
   "outputs": [
    {
     "ename": "ModuleNotFoundError",
     "evalue": "No module named 'filename'",
     "output_type": "error",
     "traceback": [
      "\u001b[1;31m---------------------------------------------------------------------------\u001b[0m",
      "\u001b[1;31mModuleNotFoundError\u001b[0m                       Traceback (most recent call last)",
      "Input \u001b[1;32mIn [29]\u001b[0m, in \u001b[0;36m<cell line: 1>\u001b[1;34m()\u001b[0m\n\u001b[1;32m----> 1\u001b[0m \u001b[38;5;28;01mimport\u001b[39;00m \u001b[38;5;21;01mfilename\u001b[39;00m\n\u001b[0;32m      2\u001b[0m filename\u001b[38;5;241m.\u001b[39mwishing(\u001b[38;5;124m\"\u001b[39m\u001b[38;5;124mRose\u001b[39m\u001b[38;5;124m\"\u001b[39m)\n",
      "\u001b[1;31mModuleNotFoundError\u001b[0m: No module named 'filename'"
     ]
    }
   ],
   "source": [
    "import filename\n",
    "filename.wishing(\"Rose\")"
   ]
  },
  {
   "cell_type": "code",
   "execution_count": 75,
   "id": "5ae0e77c",
   "metadata": {},
   "outputs": [
    {
     "ename": "ModuleNotFoundError",
     "evalue": "No module named 'filename'",
     "output_type": "error",
     "traceback": [
      "\u001b[1;31m---------------------------------------------------------------------------\u001b[0m",
      "\u001b[1;31mModuleNotFoundError\u001b[0m                       Traceback (most recent call last)",
      "Input \u001b[1;32mIn [75]\u001b[0m, in \u001b[0;36m<cell line: 1>\u001b[1;34m()\u001b[0m\n\u001b[1;32m----> 1\u001b[0m \u001b[38;5;28;01mimport\u001b[39;00m \u001b[38;5;21;01mfilename\u001b[39;00m\n\u001b[0;32m      2\u001b[0m filename\u001b[38;5;241m.\u001b[39mwishing(\u001b[38;5;124m\"\u001b[39m\u001b[38;5;124mHarshdeep slut\u001b[39m\u001b[38;5;124m\"\u001b[39m)\n",
      "\u001b[1;31mModuleNotFoundError\u001b[0m: No module named 'filename'"
     ]
    }
   ],
   "source": [
    "import filename\n",
    "filename.wishing(\"Harshdeep slut\")"
   ]
  },
  {
   "cell_type": "code",
   "execution_count": null,
   "id": "67e9e3aa",
   "metadata": {},
   "outputs": [],
   "source": []
  },
  {
   "cell_type": "code",
   "execution_count": null,
   "id": "207d7c8f",
   "metadata": {},
   "outputs": [],
   "source": []
  },
  {
   "cell_type": "code",
   "execution_count": null,
   "id": "a0c43bac",
   "metadata": {},
   "outputs": [],
   "source": []
  },
  {
   "cell_type": "code",
   "execution_count": null,
   "id": "3108398e",
   "metadata": {},
   "outputs": [],
   "source": []
  },
  {
   "cell_type": "code",
   "execution_count": null,
   "id": "6f2a3ce4",
   "metadata": {},
   "outputs": [],
   "source": []
  },
  {
   "cell_type": "code",
   "execution_count": null,
   "id": "2b88ae19",
   "metadata": {},
   "outputs": [],
   "source": []
  }
 ],
 "metadata": {
  "kernelspec": {
   "display_name": "Python 3 (ipykernel)",
   "language": "python",
   "name": "python3"
  },
  "language_info": {
   "codemirror_mode": {
    "name": "ipython",
    "version": 3
   },
   "file_extension": ".py",
   "mimetype": "text/x-python",
   "name": "python",
   "nbconvert_exporter": "python",
   "pygments_lexer": "ipython3",
   "version": "3.9.12"
  }
 },
 "nbformat": 4,
 "nbformat_minor": 5
}
