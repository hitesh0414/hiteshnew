{
 "cells": [
  {
   "cell_type": "markdown",
   "id": "0917b99e",
   "metadata": {},
   "source": [
    "# #A list is a standard data type of Python that can store a sequence of values belonging to any type. \n",
    "#Empty List :  [ ]\n",
    "#list of integers  :  [1,2,3,4,5,6]\n",
    "#list of numbers  :  [1,2,3,4.5,6.5,5.7]\n",
    "#list of characters  :  ['a','b','c']\n",
    "#list of mixed data type  :  ['a',2,4.2,\"zero\"]\n",
    "#list of strings  : ['a','b','c']\n",
    "\n",
    "\n",
    "## Nested List :\n",
    "list4 = [\"One\", [8, 4, 6], ['Three']] #Nested List\n",
    "  \n",
    "  \n",
    "\n"
   ]
  },
  {
   "cell_type": "code",
   "execution_count": 4,
   "id": "4bcd8b9c",
   "metadata": {},
   "outputs": [
    {
     "name": "stdout",
     "output_type": "stream",
     "text": [
      "son\n",
      "father\n"
     ]
    }
   ],
   "source": [
    "## Indexing\n",
    "li = [\"mother\",\"father\",\"son\"]\n",
    "print(li[2])\n",
    "\n",
    "print(li[1])"
   ]
  },
  {
   "cell_type": "code",
   "execution_count": 5,
   "id": "1d26b585",
   "metadata": {},
   "outputs": [
    {
     "name": "stdout",
     "output_type": "stream",
     "text": [
      "father\n",
      "son\n"
     ]
    }
   ],
   "source": [
    "#negative indexing\n",
    "li = [\"mother\",\"father\",\"son\"]\n",
    "print(li[-2])\n",
    "\n",
    "print(li[-1])"
   ]
  },
  {
   "cell_type": "code",
   "execution_count": 6,
   "id": "b1d59fb4",
   "metadata": {},
   "outputs": [
    {
     "name": "stdout",
     "output_type": "stream",
     "text": [
      "['mother', 'father', 'mother', 12, 555]\n"
     ]
    }
   ],
   "source": [
    "#changing elements of a list\n",
    "li = [\"mother\",\"father\",\"son\",12,23]\n",
    "li[-1] = 555\n",
    "li[2] = \"mother\"\n",
    "print(li)"
   ]
  },
  {
   "cell_type": "code",
   "execution_count": null,
   "id": "57fa9187",
   "metadata": {},
   "outputs": [],
   "source": [
    "#joining two list\n",
    "l1 = [1,2,3]\n",
    "l2 = [3,4,5]\n",
    "l3 = l1 + l2\n",
    "print(l3)"
   ]
  },
  {
   "cell_type": "code",
   "execution_count": 8,
   "id": "a42eac0e",
   "metadata": {},
   "outputs": [
    {
     "name": "stdout",
     "output_type": "stream",
     "text": [
      "[1, 2, 3, 4, 1, 2, 3, 4, 1, 2, 3, 4]\n"
     ]
    }
   ],
   "source": [
    "#repeating/replicating list\n",
    "l1 = [1,2,3,4]\n",
    "print(l1*3)"
   ]
  },
  {
   "cell_type": "code",
   "execution_count": 14,
   "id": "b4615249",
   "metadata": {},
   "outputs": [
    {
     "name": "stdout",
     "output_type": "stream",
     "text": [
      "['c', 'd', 'e', 'f']\n",
      "['c', 'd', 'e', 'f', 'g', 'h']\n",
      "['h', 'g', 'f', 'e', 'd', 'c', 'b', 'a']\n"
     ]
    }
   ],
   "source": [
    "#list slicing\n",
    "##slice= <List Name>[StartIndex : StopIndex : Steps]\n",
    "l1 = ['a','b','c','d','e','f','g','h']\n",
    "print(l1[2:6])\n",
    "print(l1[2::1])\n",
    "print(l1[::-1])\n"
   ]
  },
  {
   "cell_type": "code",
   "execution_count": 15,
   "id": "9ce98bdd",
   "metadata": {},
   "outputs": [
    {
     "name": "stdout",
     "output_type": "stream",
     "text": [
      "[1, 2, 3, 4, 5, 6, 7]\n"
     ]
    }
   ],
   "source": [
    "##list methods\n",
    "#append()  : used to add element at the end of a list\n",
    "li = [1,2,3,4,5,6]\n",
    "li.append(7)\n",
    "print(li)"
   ]
  },
  {
   "cell_type": "code",
   "execution_count": 19,
   "id": "6a09791e",
   "metadata": {},
   "outputs": [
    {
     "name": "stdout",
     "output_type": "stream",
     "text": [
      "[1, 2, 3, 4, 5, 6, 7, 8, 9]\n"
     ]
    }
   ],
   "source": [
    "#extend()  : used to add elements of l2 at the end of l1\n",
    "l1 = [1,2,3,4,5]\n",
    "l2 = [6,7,8,9]\n",
    "l1.extend(l2)\n",
    "print(l1)\n"
   ]
  },
  {
   "cell_type": "code",
   "execution_count": 24,
   "id": "9e655468",
   "metadata": {},
   "outputs": [
    {
     "name": "stdout",
     "output_type": "stream",
     "text": [
      "[1, 2, 3, 'dont know', 4, 5, 6, 7]\n"
     ]
    }
   ],
   "source": [
    "#insert()   : used to insert an element at a specified position/index in a list\n",
    "l1 = [1,2,3,4,5,6,7]\n",
    "l1.insert(3,'dont know')\n",
    "print(l1)"
   ]
  },
  {
   "cell_type": "code",
   "execution_count": 26,
   "id": "9e645cb6",
   "metadata": {},
   "outputs": [
    {
     "name": "stdout",
     "output_type": "stream",
     "text": [
      "21\n"
     ]
    }
   ],
   "source": [
    "#sum()   : used to sum all the numeric value of a list\n",
    "l1 = [1,2,3,4,5,6,]\n",
    "print(sum(l1))"
   ]
  },
  {
   "cell_type": "code",
   "execution_count": 34,
   "id": "d2da8aaa",
   "metadata": {},
   "outputs": [
    {
     "name": "stdout",
     "output_type": "stream",
     "text": [
      "3 4\n"
     ]
    }
   ],
   "source": [
    "#count()  :: Returns the total number of times a given element occurs in a List.\n",
    "l1 = [1,2,3,4,5,5,5,5,6,6,6,7,3,3,3,3,8,8,8,8]\n",
    "a = l1.count(6)\n",
    "b = l1.count(5)\n",
    "print(a,b)"
   ]
  },
  {
   "cell_type": "code",
   "execution_count": 36,
   "id": "c0a98c8d",
   "metadata": {},
   "outputs": [
    {
     "name": "stdout",
     "output_type": "stream",
     "text": [
      "10\n"
     ]
    }
   ],
   "source": [
    "#len(): Returns the total length of a List\n",
    "l1 = [1,2,3,4,5,6,7,8,9,10]\n",
    "print(len(l1))"
   ]
  },
  {
   "cell_type": "code",
   "execution_count": 5,
   "id": "18e7b631",
   "metadata": {},
   "outputs": [
    {
     "name": "stdout",
     "output_type": "stream",
     "text": [
      "3\n"
     ]
    },
    {
     "ename": "ValueError",
     "evalue": "6 is not in list",
     "output_type": "error",
     "traceback": [
      "\u001b[1;31m---------------------------------------------------------------------------\u001b[0m",
      "\u001b[1;31mValueError\u001b[0m                                Traceback (most recent call last)",
      "Input \u001b[1;32mIn [5]\u001b[0m, in \u001b[0;36m<cell line: 4>\u001b[1;34m()\u001b[0m\n\u001b[0;32m      2\u001b[0m l1 \u001b[38;5;241m=\u001b[39m [\u001b[38;5;241m1\u001b[39m,\u001b[38;5;241m2\u001b[39m,\u001b[38;5;241m3\u001b[39m,\u001b[38;5;241m4\u001b[39m,\u001b[38;5;241m5\u001b[39m,\u001b[38;5;241m4\u001b[39m,\u001b[38;5;241m9\u001b[39m,\u001b[38;5;241m7\u001b[39m,\u001b[38;5;241m5\u001b[39m]\n\u001b[0;32m      3\u001b[0m \u001b[38;5;28mprint\u001b[39m(l1\u001b[38;5;241m.\u001b[39mindex(\u001b[38;5;241m4\u001b[39m))\n\u001b[1;32m----> 4\u001b[0m value \u001b[38;5;241m=\u001b[39m \u001b[43ml1\u001b[49m\u001b[38;5;241;43m.\u001b[39;49m\u001b[43mindex\u001b[49m\u001b[43m(\u001b[49m\u001b[38;5;241;43m6\u001b[39;49m\u001b[43m)\u001b[49m\n\u001b[0;32m      5\u001b[0m value\n",
      "\u001b[1;31mValueError\u001b[0m: 6 is not in list"
     ]
    }
   ],
   "source": [
    "#index(): Returns the index of first occurrence of an element in a list. If element is not present, it returns -1.\n",
    "l1 = [1,2,3,4,5,4,9,7,5]\n",
    "print(l1.index(4))\n",
    "value = l1.index(6)\n",
    "    \n",
    "    "
   ]
  },
  {
   "cell_type": "code",
   "execution_count": 43,
   "id": "192655f3",
   "metadata": {},
   "outputs": [
    {
     "name": "stdout",
     "output_type": "stream",
     "text": [
      "a\n",
      "3\n"
     ]
    }
   ],
   "source": [
    "#min() : Returns the minimum element in a List\n",
    "l1 = ['a','b','c','d','e','f']\n",
    "print(min(l1))\n",
    "l2 = [4,3,4,5,6,7,8]\n",
    "print(min(l2))"
   ]
  },
  {
   "cell_type": "code",
   "execution_count": 50,
   "id": "59b50570",
   "metadata": {},
   "outputs": [
    {
     "name": "stdout",
     "output_type": "stream",
     "text": [
      "f\n",
      "70.4\n"
     ]
    }
   ],
   "source": [
    "#max() : Returns the maximum element in a List.\n",
    "l1 = ['a','b','c','b','e','f']\n",
    "print(max(l1))\n",
    "l2 = [4,3,4,5,69,70.4,8]\n",
    "print(max(l2))"
   ]
  },
  {
   "cell_type": "code",
   "execution_count": 71,
   "id": "9b6e7b63",
   "metadata": {},
   "outputs": [
    {
     "name": "stdout",
     "output_type": "stream",
     "text": [
      "[1, 2, 3, 4, 5, 6, 7, 8, 'a', 'b', 'c']\n"
     ]
    }
   ],
   "source": [
    "#pop(): It deletes and returns the element at the specified index. If we don't mention the index,\n",
    "#it by default pops the last element in the list\n",
    "l1 = [1,2,3,4,5,6,7,8,'a','b','c','mom']\n",
    "a = l1.pop(-1)\n",
    "print(l1)"
   ]
  },
  {
   "cell_type": "code",
   "execution_count": 75,
   "id": "2df0d510",
   "metadata": {},
   "outputs": [
    {
     "name": "stdout",
     "output_type": "stream",
     "text": [
      "[1, 2, 3, 5, 6, 7, 8]\n"
     ]
    }
   ],
   "source": [
    "#del() : Element to be deleted is mentioned using list name and index\n",
    "l1 = [1,2,3,4,5,6,7,8]\n",
    "del l1[3]\n",
    "print(l1)"
   ]
  },
  {
   "cell_type": "code",
   "execution_count": 78,
   "id": "029382e5",
   "metadata": {},
   "outputs": [
    {
     "name": "stdout",
     "output_type": "stream",
     "text": [
      "[1, 2, 3, 5, 6, 7, 8]\n"
     ]
    }
   ],
   "source": [
    "#remove(): Element to be deleted is mentioned using list name and element\n",
    "l1 = [1,2,3,45,5,6,7,8]\n",
    "l1.remove(45)\n",
    "print(l1)"
   ]
  },
  {
   "cell_type": "code",
   "execution_count": 87,
   "id": "484df2ee",
   "metadata": {},
   "outputs": [
    {
     "name": "stdout",
     "output_type": "stream",
     "text": [
      "1\n",
      "2\n",
      "3\n",
      "4\n",
      "5\n",
      "6\n",
      "7\n",
      "8\n"
     ]
    }
   ],
   "source": [
    "#Looping On Lists\n",
    "#using for loop\n",
    "l1 = [1,2,3,4,5,6,7,8]\n",
    "for i in l1:\n",
    "    print(i)"
   ]
  },
  {
   "cell_type": "code",
   "execution_count": 7,
   "id": "5349dac9",
   "metadata": {},
   "outputs": [
    {
     "name": "stdout",
     "output_type": "stream",
     "text": [
      "1\n",
      "2\n",
      "3\n",
      "4\n",
      "5\n",
      "6\n",
      "7\n",
      "8\n"
     ]
    }
   ],
   "source": [
    "#using for loop and range\n",
    "l1 = [1,2,3,4,5,6,7,8]\n",
    "for i in range(len(l1)):\n",
    "    print(i)\n",
    "    \n",
    "    \n",
    "    \n",
    "    \n",
    "                                    \n",
    "    \n",
    "    \n",
    "    \n",
    "    \n",
    "    "
   ]
  },
  {
   "cell_type": "markdown",
   "id": "24e717a8",
   "metadata": {},
   "source": [
    "#                                Line Separated Input Of List                                               \n",
    "#The way to take line separated input of a list is described below:\n",
    "#● Create an empty list.\n",
    "#● Let the number of elements you wish to put in the list be N.\n",
    "#● Run a loop for N iterations and during these N iterations do the following:\n",
    "#○ Take an element as user input using the input() function.\n",
    "#○ Append this element to the list we created.\n",
    "#● At the end of N iterations, you would have appended N desired elements to your list.\n",
    "#● In this, different elements will have to be entered by the user in different lines."
   ]
  },
  {
   "cell_type": "code",
   "execution_count": 97,
   "id": "f1be516b",
   "metadata": {},
   "outputs": [
    {
     "name": "stdout",
     "output_type": "stream",
     "text": [
      "4\n",
      "1\n",
      "2\n",
      "3\n",
      "4\n",
      "[1, 2, 3, 4]\n"
     ]
    }
   ],
   "source": [
    "li = []\n",
    "b = int(input())\n",
    "for i in range(b):\n",
    "    a = int(input())\n",
    "    li.append(a)\n",
    "print(li)"
   ]
  },
  {
   "cell_type": "markdown",
   "id": "da4a291c",
   "metadata": {},
   "source": [
    "#                                        Using split() method                                                  \n",
    "##This function helps in taking multiple inputs from the user in a single line . It breaks\n",
    "#the given input by the specified separator. If a separator is not provided then any\n",
    "#white space is treated as a separator.\n",
    "#Note: The split() method is generally used to split a string"
   ]
  },
  {
   "cell_type": "code",
   "execution_count": 99,
   "id": "aa86d4d8",
   "metadata": {},
   "outputs": [
    {
     "name": "stdout",
     "output_type": "stream",
     "text": [
      "1 2 3 4 5 6\n",
      "['1', '2', '3', '4', '5', '6']\n"
     ]
    }
   ],
   "source": [
    "a = input().split()\n",
    "print(a)"
   ]
  },
  {
   "cell_type": "code",
   "execution_count": 103,
   "id": "9ed247bb",
   "metadata": {},
   "outputs": [
    {
     "name": "stdout",
     "output_type": "stream",
     "text": [
      "1,2,3,4,5,6,7\n",
      "['1', '2', '3', '4', '5', '6', '7']\n"
     ]
    }
   ],
   "source": [
    "a = input().split(\",\")\n",
    "print(a)"
   ]
  },
  {
   "cell_type": "code",
   "execution_count": null,
   "id": "0dd383a0",
   "metadata": {},
   "outputs": [],
   "source": []
  },
  {
   "cell_type": "code",
   "execution_count": null,
   "id": "15e3ba7d",
   "metadata": {},
   "outputs": [],
   "source": []
  },
  {
   "cell_type": "code",
   "execution_count": null,
   "id": "b3006cd8",
   "metadata": {},
   "outputs": [],
   "source": []
  }
 ],
 "metadata": {
  "kernelspec": {
   "display_name": "Python 3 (ipykernel)",
   "language": "python",
   "name": "python3"
  },
  "language_info": {
   "codemirror_mode": {
    "name": "ipython",
    "version": 3
   },
   "file_extension": ".py",
   "mimetype": "text/x-python",
   "name": "python",
   "nbconvert_exporter": "python",
   "pygments_lexer": "ipython3",
   "version": "3.9.12"
  }
 },
 "nbformat": 4,
 "nbformat_minor": 5
}
